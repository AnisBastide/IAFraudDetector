{
 "cells": [
  {
   "cell_type": "code",
   "execution_count": 13,
   "outputs": [
    {
     "data": {
      "text/plain": "        distance_from_home  distance_from_last_transaction  \\\n0                57.877857                        0.311140   \n1                10.829943                        0.175592   \n2                 5.091079                        0.805153   \n3                 2.247564                        5.600044   \n4                44.190936                        0.566486   \n...                    ...                             ...   \n999995            2.207101                        0.112651   \n999996           19.872726                        2.683904   \n999997            2.914857                        1.472687   \n999998            4.258729                        0.242023   \n999999           58.108125                        0.318110   \n\n        ratio_to_median_purchase_price  repeat_retailer  used_chip  \\\n0                             1.945940              1.0        1.0   \n1                             1.294219              1.0        0.0   \n2                             0.427715              1.0        0.0   \n3                             0.362663              1.0        1.0   \n4                             2.222767              1.0        1.0   \n...                                ...              ...        ...   \n999995                        1.626798              1.0        1.0   \n999996                        2.778303              1.0        1.0   \n999997                        0.218075              1.0        1.0   \n999998                        0.475822              1.0        0.0   \n999999                        0.386920              1.0        1.0   \n\n        used_pin_number  online_order  fraud  \n0                   0.0           0.0    0.0  \n1                   0.0           0.0    0.0  \n2                   0.0           1.0    0.0  \n3                   0.0           1.0    0.0  \n4                   0.0           1.0    0.0  \n...                 ...           ...    ...  \n999995              0.0           0.0    0.0  \n999996              0.0           0.0    0.0  \n999997              0.0           1.0    0.0  \n999998              0.0           1.0    0.0  \n999999              0.0           1.0    0.0  \n\n[1000000 rows x 8 columns]",
      "text/html": "<div>\n<style scoped>\n    .dataframe tbody tr th:only-of-type {\n        vertical-align: middle;\n    }\n\n    .dataframe tbody tr th {\n        vertical-align: top;\n    }\n\n    .dataframe thead th {\n        text-align: right;\n    }\n</style>\n<table border=\"1\" class=\"dataframe\">\n  <thead>\n    <tr style=\"text-align: right;\">\n      <th></th>\n      <th>distance_from_home</th>\n      <th>distance_from_last_transaction</th>\n      <th>ratio_to_median_purchase_price</th>\n      <th>repeat_retailer</th>\n      <th>used_chip</th>\n      <th>used_pin_number</th>\n      <th>online_order</th>\n      <th>fraud</th>\n    </tr>\n  </thead>\n  <tbody>\n    <tr>\n      <th>0</th>\n      <td>57.877857</td>\n      <td>0.311140</td>\n      <td>1.945940</td>\n      <td>1.0</td>\n      <td>1.0</td>\n      <td>0.0</td>\n      <td>0.0</td>\n      <td>0.0</td>\n    </tr>\n    <tr>\n      <th>1</th>\n      <td>10.829943</td>\n      <td>0.175592</td>\n      <td>1.294219</td>\n      <td>1.0</td>\n      <td>0.0</td>\n      <td>0.0</td>\n      <td>0.0</td>\n      <td>0.0</td>\n    </tr>\n    <tr>\n      <th>2</th>\n      <td>5.091079</td>\n      <td>0.805153</td>\n      <td>0.427715</td>\n      <td>1.0</td>\n      <td>0.0</td>\n      <td>0.0</td>\n      <td>1.0</td>\n      <td>0.0</td>\n    </tr>\n    <tr>\n      <th>3</th>\n      <td>2.247564</td>\n      <td>5.600044</td>\n      <td>0.362663</td>\n      <td>1.0</td>\n      <td>1.0</td>\n      <td>0.0</td>\n      <td>1.0</td>\n      <td>0.0</td>\n    </tr>\n    <tr>\n      <th>4</th>\n      <td>44.190936</td>\n      <td>0.566486</td>\n      <td>2.222767</td>\n      <td>1.0</td>\n      <td>1.0</td>\n      <td>0.0</td>\n      <td>1.0</td>\n      <td>0.0</td>\n    </tr>\n    <tr>\n      <th>...</th>\n      <td>...</td>\n      <td>...</td>\n      <td>...</td>\n      <td>...</td>\n      <td>...</td>\n      <td>...</td>\n      <td>...</td>\n      <td>...</td>\n    </tr>\n    <tr>\n      <th>999995</th>\n      <td>2.207101</td>\n      <td>0.112651</td>\n      <td>1.626798</td>\n      <td>1.0</td>\n      <td>1.0</td>\n      <td>0.0</td>\n      <td>0.0</td>\n      <td>0.0</td>\n    </tr>\n    <tr>\n      <th>999996</th>\n      <td>19.872726</td>\n      <td>2.683904</td>\n      <td>2.778303</td>\n      <td>1.0</td>\n      <td>1.0</td>\n      <td>0.0</td>\n      <td>0.0</td>\n      <td>0.0</td>\n    </tr>\n    <tr>\n      <th>999997</th>\n      <td>2.914857</td>\n      <td>1.472687</td>\n      <td>0.218075</td>\n      <td>1.0</td>\n      <td>1.0</td>\n      <td>0.0</td>\n      <td>1.0</td>\n      <td>0.0</td>\n    </tr>\n    <tr>\n      <th>999998</th>\n      <td>4.258729</td>\n      <td>0.242023</td>\n      <td>0.475822</td>\n      <td>1.0</td>\n      <td>0.0</td>\n      <td>0.0</td>\n      <td>1.0</td>\n      <td>0.0</td>\n    </tr>\n    <tr>\n      <th>999999</th>\n      <td>58.108125</td>\n      <td>0.318110</td>\n      <td>0.386920</td>\n      <td>1.0</td>\n      <td>1.0</td>\n      <td>0.0</td>\n      <td>1.0</td>\n      <td>0.0</td>\n    </tr>\n  </tbody>\n</table>\n<p>1000000 rows × 8 columns</p>\n</div>"
     },
     "execution_count": 13,
     "metadata": {},
     "output_type": "execute_result"
    }
   ],
   "source": [
    "import pandas as pd\n",
    "import pickle\n",
    "df = pd.read_csv(\"card_transdata.csv\")\n",
    "df"
   ],
   "metadata": {
    "collapsed": false,
    "ExecuteTime": {
     "end_time": "2023-11-21T14:25:16.158069Z",
     "start_time": "2023-11-21T14:25:15.664522Z"
    }
   },
   "id": "c2b73028eb906310"
  },
  {
   "cell_type": "code",
   "execution_count": 14,
   "outputs": [],
   "source": [
    "from sklearn.model_selection import train_test_split\n",
    "from sklearn.ensemble import RandomForestClassifier\n",
    "from sklearn.preprocessing import StandardScaler\n",
    "\n",
    "x_train, x_test, y_train, y_test = train_test_split(\n",
    "    df[[\"distance_from_home\", \"distance_from_last_transaction\", \"repeat_retailer\", \"used_chip\", \"used_pin_number\", \"online_order\"]],\n",
    "    df.fraud, \n",
    "    test_size=0.2,\n",
    "    random_state=42)\n",
    "\n",
    "def dataprep(data):\n",
    "    scaler = StandardScaler()\n",
    "    catDFH = []\n",
    "    distance_from_home = data['distance_from_home'].fillna(data['distance_from_home'].mean())\n",
    "    distance_from_home.index = range(len(data.index))\n",
    "    for i in range(data.shape[0]) :\n",
    "        if distance_from_home[i] <= 10:\n",
    "            catDFH.append(\"proche\")\n",
    "        elif distance_from_home[i] > 10 and distance_from_home[i] <= 60:\n",
    "            catDFH.append(\"moyen\")\n",
    "        elif distance_from_home[i] > 60 and distance_from_home[i] <= 500:\n",
    "            catDFH.append(\"loin\")\n",
    "        else:\n",
    "            catDFH.append(\"étranger\")\n",
    "    #print(pd.DataFrame(catDFH, columns = ['catDFH'])['catDFH'].value_counts())\n",
    "    distance_from_home = pd.get_dummies(pd.DataFrame(catDFH, columns = ['catDFH']), prefix='distance_from_home')\n",
    "    \n",
    "    catDFLT = []\n",
    "    distance_from_last_transaction = data['distance_from_last_transaction'].fillna(data['distance_from_last_transaction'].mean())\n",
    "    distance_from_last_transaction.index = range(len(data.index))\n",
    "    for i in range(data.shape[0]) :\n",
    "        if distance_from_last_transaction[i] <= 10:\n",
    "            catDFLT.append(\"proche\")\n",
    "        elif distance_from_last_transaction[i] > 10 and distance_from_last_transaction[i] <= 60:\n",
    "            catDFLT.append(\"moyen\")\n",
    "        elif distance_from_last_transaction[i] > 60 and distance_from_last_transaction[i] <= 500:\n",
    "            catDFLT.append(\"loin\")\n",
    "        else:\n",
    "            catDFLT.append(\"étranger\")\n",
    "    #print(pd.DataFrame(catDFLT, columns = ['catDFLT'])['catDFLT'].value_counts())\n",
    "    distance_from_last_transaction = pd.get_dummies(pd.DataFrame(catDFLT, columns = ['catDFLT']), prefix='distance_from_last_transaction')\n",
    "    \n",
    "    dpFinal = distance_from_home.join(distance_from_last_transaction).join(data[['repeat_retailer']]).join(data[['used_chip']]).join(data[['used_pin_number']]).join(data[['online_order']])\n",
    "    dpFinal = scaler.fit_transform(dpFinal)\n",
    "    return dpFinal\n",
    "\n",
    "dataprep(x_test)\n",
    "dataprep(x_train)\n",
    "\n",
    "rf = RandomForestClassifier(n_estimators=250, random_state=4, max_features=2)\n",
    "rf.fit(x_train, y_train)\n",
    "pickle.dump(rf, open('model.pkl', 'wb'))"
   ],
   "metadata": {
    "collapsed": false,
    "ExecuteTime": {
     "end_time": "2023-11-21T14:27:15.362668Z",
     "start_time": "2023-11-21T14:25:19.670686Z"
    }
   },
   "id": "da94215f2a1e623e"
  },
  {
   "cell_type": "code",
   "execution_count": 11,
   "outputs": [
    {
     "data": {
      "text/plain": "0.99999"
     },
     "execution_count": 11,
     "metadata": {},
     "output_type": "execute_result"
    }
   ],
   "source": [
    "rf.score(x_test, y_test)"
   ],
   "metadata": {
    "collapsed": false,
    "ExecuteTime": {
     "end_time": "2023-11-21T09:02:46.947074Z",
     "start_time": "2023-11-21T09:02:45.142925Z"
    }
   },
   "id": "19b625d23481b06"
  },
  {
   "cell_type": "code",
   "execution_count": 12,
   "outputs": [
    {
     "data": {
      "text/plain": "1.0"
     },
     "execution_count": 12,
     "metadata": {},
     "output_type": "execute_result"
    }
   ],
   "source": [
    "rf.score(x_train, y_train)"
   ],
   "metadata": {
    "collapsed": false,
    "ExecuteTime": {
     "end_time": "2023-11-21T09:02:54.862443Z",
     "start_time": "2023-11-21T09:02:48.435350Z"
    }
   },
   "id": "9f61b9152a9abc90"
  },
  {
   "cell_type": "code",
   "execution_count": 6,
   "outputs": [
    {
     "data": {
      "text/plain": "array([0., 0., 0., ..., 1., 0., 0.])"
     },
     "execution_count": 6,
     "metadata": {},
     "output_type": "execute_result"
    }
   ],
   "source": [
    "rf.predict(x_test)"
   ],
   "metadata": {
    "collapsed": false,
    "ExecuteTime": {
     "end_time": "2023-11-21T08:53:27.517931Z",
     "start_time": "2023-11-21T08:53:27.316211Z"
    }
   },
   "id": "dc0c784f17bce882"
  },
  {
   "cell_type": "code",
   "execution_count": null,
   "outputs": [],
   "source": [],
   "metadata": {
    "collapsed": false
   },
   "id": "f89b6b0b2bec70ee"
  }
 ],
 "metadata": {
  "kernelspec": {
   "display_name": "Python 3",
   "language": "python",
   "name": "python3"
  },
  "language_info": {
   "codemirror_mode": {
    "name": "ipython",
    "version": 2
   },
   "file_extension": ".py",
   "mimetype": "text/x-python",
   "name": "python",
   "nbconvert_exporter": "python",
   "pygments_lexer": "ipython2",
   "version": "2.7.6"
  }
 },
 "nbformat": 4,
 "nbformat_minor": 5
}
